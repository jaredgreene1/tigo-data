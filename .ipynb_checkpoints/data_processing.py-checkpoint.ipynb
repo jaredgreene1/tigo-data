{
 "cells": [
  {
   "cell_type": "code",
   "execution_count": 218,
   "metadata": {},
   "outputs": [
    {
     "data": {
      "text/html": [
       "<div>\n",
       "<table border=\"1\" class=\"dataframe\">\n",
       "  <thead>\n",
       "    <tr style=\"text-align: right;\">\n",
       "      <th></th>\n",
       "      <th>START_DATE_TIME</th>\n",
       "      <th>ANUMBER</th>\n",
       "      <th>BNUMBER</th>\n",
       "      <th>SECONDS</th>\n",
       "      <th>A_COUNTRY</th>\n",
       "      <th>B_COUNTRY</th>\n",
       "      <th>CALL_TYPE</th>\n",
       "      <th>CELL_ID</th>\n",
       "    </tr>\n",
       "  </thead>\n",
       "  <tbody>\n",
       "    <tr>\n",
       "      <th>0</th>\n",
       "      <td>2018-04-26 12:15:56</td>\n",
       "      <td>7JLFHHIOG</td>\n",
       "      <td>9JFONGMLM</td>\n",
       "      <td>49</td>\n",
       "      <td>GUATEMALA</td>\n",
       "      <td>GUATEMALA</td>\n",
       "      <td>ON-NET</td>\n",
       "      <td>704020909405372</td>\n",
       "    </tr>\n",
       "    <tr>\n",
       "      <th>1</th>\n",
       "      <td>2018-04-26 10:59:39</td>\n",
       "      <td>7JLFHHIOG</td>\n",
       "      <td>5JNKOFJKO</td>\n",
       "      <td>36</td>\n",
       "      <td>GUATEMALA</td>\n",
       "      <td>GUATEMALA</td>\n",
       "      <td>ON-NET</td>\n",
       "      <td>704020909405371</td>\n",
       "    </tr>\n",
       "  </tbody>\n",
       "</table>\n",
       "</div>"
      ],
      "text/plain": [
       "       START_DATE_TIME    ANUMBER    BNUMBER  SECONDS  A_COUNTRY  B_COUNTRY  \\\n",
       "0  2018-04-26 12:15:56  7JLFHHIOG  9JFONGMLM       49  GUATEMALA  GUATEMALA   \n",
       "1  2018-04-26 10:59:39  7JLFHHIOG  5JNKOFJKO       36  GUATEMALA  GUATEMALA   \n",
       "\n",
       "  CALL_TYPE          CELL_ID  \n",
       "0    ON-NET  704020909405372  \n",
       "1    ON-NET  704020909405371  "
      ]
     },
     "execution_count": 218,
     "metadata": {},
     "output_type": "execute_result"
    }
   ],
   "source": [
    "# Setup\n",
    "%matplotlib inline\n",
    "\n",
    "import pandas as pd\n",
    "DATA_FILE = './data/Calls_20180426.csv'\n",
    "SAMPLE_SIZE= 3000000\n",
    "\n",
    "data = pd.read_csv(DATA_FILE, nrows = SAMPLE_SIZE)\n",
    "data.head(2)"
   ]
  },
  {
   "cell_type": "code",
   "execution_count": 231,
   "metadata": {},
   "outputs": [
    {
     "data": {
      "text/plain": [
       "<matplotlib.axes._subplots.AxesSubplot at 0x7eff6d92ad30>"
      ]
     },
     "execution_count": 231,
     "metadata": {},
     "output_type": "execute_result"
    },
    {
     "data": {
      "image/png": "[encoded data removed]",
      "text/plain": [
       "<matplotlib.figure.Figure at 0x7eff6d92a208>"
      ]
     },
     "metadata": {},
     "output_type": "display_data"
    }
   ],
   "source": [
    "#Graph calls by hour of the day\n",
    "\n",
    "data['HOUR'] = data.START_DATE_TIME.str[10:13].astype(int)\n",
    "data['MINUTE'] = data.START_DATE_TIME.str[14:16].astype(int)\n",
    "\n",
    "data['HOUR_MINUTE'] = data.HOUR + (data.MINUTE/60.0).round(4)\n",
    "data.groupby('HOUR_MINUTE').size().plot()\n"
   ]
  },
  {
   "cell_type": "code",
   "execution_count": 16,
   "metadata": {
    "scrolled": false
   },
   "outputs": [
    {
     "data": {
      "text/plain": [
       "<matplotlib.axes._subplots.AxesSubplot at 0x7effc194edd8>"
      ]
     },
     "execution_count": 16,
     "metadata": {},
     "output_type": "execute_result"
    },
    {
     "data": {
      "image/png": "[encoded data removed]",
      "text/plain": [
       "<matplotlib.figure.Figure at 0x7effc19664e0>"
      ]
     },
     "metadata": {},
     "output_type": "display_data"
    }
   ],
   "source": [
    "#Call frequency by CELL_ID\n",
    "\n",
    "data.groupby('CELL_ID').size().sort_values(ascending=False).head(500).plot()"
   ]
  },
  {
   "cell_type": "code",
   "execution_count": 230,
   "metadata": {},
   "outputs": [
    {
     "name": "stdout",
     "output_type": "stream",
     "text": [
      "15 unique most common cell towers over 24 hours\n"
     ]
    }
   ],
   "source": [
    "# Most common CELL_ID by hour\n",
    "\n",
    "d   = data\n",
    "df  = d.groupby(['HOUR', 'CELL_ID'])['CELL_ID'].size()\n",
    "udf = df.reset_index()\n",
    "val = udf.groupby(['HOUR'])[0].idxmax('max').values\n",
    "cells = udf.ix[val]\n",
    "\n",
    "\n",
    "# Number of unique towers (looking at whether the same towers are most common throughout the day)\n",
    "\n",
    "print(\"{} unique most common cell towers over 24 hours\".format(cells.CELL_ID.nunique()))"
   ]
  },
  {
   "cell_type": "code",
   "execution_count": null,
   "metadata": {},
   "outputs": [],
   "source": []
  },
  {
   "cell_type": "code",
   "execution_count": null,
   "metadata": {},
   "outputs": [],
   "source": []
  },
  {
   "cell_type": "code",
   "execution_count": null,
   "metadata": {},
   "outputs": [],
   "source": []
  },
  {
   "cell_type": "code",
   "execution_count": null,
   "metadata": {},
   "outputs": [],
   "source": []
  },
  {
   "cell_type": "code",
   "execution_count": null,
   "metadata": {},
   "outputs": [],
   "source": []
  },
  {
   "cell_type": "code",
   "execution_count": null,
   "metadata": {},
   "outputs": [],
   "source": []
  },
  {
   "cell_type": "code",
   "execution_count": null,
   "metadata": {},
   "outputs": [],
   "source": []
  },
  {
   "cell_type": "code",
   "execution_count": null,
   "metadata": {},
   "outputs": [],
   "source": []
  },
  {
   "cell_type": "code",
   "execution_count": null,
   "metadata": {},
   "outputs": [],
   "source": []
  },
  {
   "cell_type": "code",
   "execution_count": null,
   "metadata": {},
   "outputs": [],
   "source": []
  },
  {
   "cell_type": "code",
   "execution_count": null,
   "metadata": {},
   "outputs": [],
   "source": []
  },
  {
   "cell_type": "code",
   "execution_count": null,
   "metadata": {},
   "outputs": [],
   "source": []
  },
  {
   "cell_type": "code",
   "execution_count": null,
   "metadata": {},
   "outputs": [],
   "source": []
  },
  {
   "cell_type": "code",
   "execution_count": null,
   "metadata": {},
   "outputs": [],
   "source": []
  },
  {
   "cell_type": "code",
   "execution_count": null,
   "metadata": {},
   "outputs": [],
   "source": []
  },
  {
   "cell_type": "code",
   "execution_count": null,
   "metadata": {},
   "outputs": [],
   "source": []
  },
  {
   "cell_type": "code",
   "execution_count": null,
   "metadata": {},
   "outputs": [],
   "source": []
  },
  {
   "cell_type": "code",
   "execution_count": null,
   "metadata": {},
   "outputs": [],
   "source": []
  },
  {
   "cell_type": "code",
   "execution_count": null,
   "metadata": {},
   "outputs": [],
   "source": []
  }
 ],
 "metadata": {
  "kernelspec": {
   "display_name": "Python 3",
   "language": "python",
   "name": "python3"
  },
  "language_info": {
   "codemirror_mode": {
    "name": "ipython",
    "version": 3
   },
   "file_extension": ".py",
   "mimetype": "text/x-python",
   "name": "python",
   "nbconvert_exporter": "python",
   "pygments_lexer": "ipython3",
   "version": "3.5.2"
  }
 },
 "nbformat": 4,
 "nbformat_minor": 2
}
